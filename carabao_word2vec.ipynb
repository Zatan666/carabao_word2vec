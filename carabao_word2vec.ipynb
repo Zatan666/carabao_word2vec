{
  "nbformat": 4,
  "nbformat_minor": 0,
  "metadata": {
    "colab": {
      "name": "carabao_word2vec.ipynb",
      "provenance": [],
      "collapsed_sections": [
        "gK-dT2gIIjs1",
        "7ydwjmm7KQcf",
        "Wfeq1sERKtV6",
        "WOTo62ADISVw",
        "oev96LjJaTmF",
        "S_nlUJLGbSTQ",
        "43t81eOb4a7O",
        "A6O7kyOM4-Fh",
        "IBrBLY8R9C4h"
      ]
    },
    "kernelspec": {
      "name": "python3",
      "display_name": "Python 3"
    },
    "language_info": {
      "name": "python"
    }
  },
  "cells": [
    {
      "cell_type": "markdown",
      "metadata": {
        "id": "gK-dT2gIIjs1"
      },
      "source": [
        "# Packages & Lyrics file"
      ]
    },
    {
      "cell_type": "code",
      "metadata": {
        "id": "Lf9o686GDn1c"
      },
      "source": [
        "! pip install --quiet deepcut"
      ],
      "execution_count": 4,
      "outputs": []
    },
    {
      "cell_type": "code",
      "metadata": {
        "colab": {
          "base_uri": "https://localhost:8080/",
          "height": 17
        },
        "id": "fdM2WhSHDbrf",
        "outputId": "93104136-064b-486c-efa2-d8fe9aac0dfe"
      },
      "source": [
        "import numpy as np\n",
        "import deepcut\n",
        "\n",
        "from tensorflow import keras\n",
        "from tensorflow.keras import layers, callbacks, utils, models\n",
        "\n",
        "import matplotlib.pyplot as plt\n",
        "from IPython.display import clear_output\n",
        "\n",
        "import plotly\n",
        "import plotly.graph_objs as go\n",
        "plotly.offline.init_notebook_mode(connected=True)\n",
        "\n",
        "import pickle as p"
      ],
      "execution_count": 5,
      "outputs": [
        {
          "output_type": "display_data",
          "data": {
            "text/html": [
              "        <script type=\"text/javascript\">\n",
              "        window.PlotlyConfig = {MathJaxConfig: 'local'};\n",
              "        if (window.MathJax) {MathJax.Hub.Config({SVG: {font: \"STIX-Web\"}});}\n",
              "        if (typeof require !== 'undefined') {\n",
              "        require.undef(\"plotly\");\n",
              "        requirejs.config({\n",
              "            paths: {\n",
              "                'plotly': ['https://cdn.plot.ly/plotly-latest.min']\n",
              "            }\n",
              "        });\n",
              "        require(['plotly'], function(Plotly) {\n",
              "            window._Plotly = Plotly;\n",
              "        });\n",
              "        }\n",
              "        </script>\n",
              "        "
            ]
          },
          "metadata": {
            "tags": []
          }
        }
      ]
    },
    {
      "cell_type": "code",
      "metadata": {
        "id": "uY2YeOamECnT",
        "colab": {
          "base_uri": "https://localhost:8080/"
        },
        "outputId": "468ecdab-4af2-4b88-cc50-302d57ca1c0a"
      },
      "source": [
        "with open('lyrics.txt') as file:\n",
        "    corpus = file.read().splitlines()  # Read text in list of lines\n",
        "    \n",
        "print(len(corpus))  # Numbers of line"
      ],
      "execution_count": 6,
      "outputs": [
        {
          "output_type": "stream",
          "text": [
            "218\n"
          ],
          "name": "stdout"
        }
      ]
    },
    {
      "cell_type": "markdown",
      "metadata": {
        "id": "7ydwjmm7KQcf"
      },
      "source": [
        "# Bag of words by Tokenize w/ deepcut"
      ]
    },
    {
      "cell_type": "code",
      "metadata": {
        "id": "mJAmL5WaEgFP"
      },
      "source": [
        "words = []\n",
        "for sentences in corpus:\n",
        "    tokens = deepcut.tokenize(sentences.strip())\n",
        "    for word in tokens:\n",
        "        words.append(word)"
      ],
      "execution_count": 7,
      "outputs": []
    },
    {
      "cell_type": "code",
      "metadata": {
        "colab": {
          "base_uri": "https://localhost:8080/"
        },
        "id": "9eoScf7EF1bx",
        "outputId": "d5f13dfa-324b-494e-cd6e-ac40bfedfd07"
      },
      "source": [
        "unique_words = set(words)\n",
        "print(len(unique_words))"
      ],
      "execution_count": 8,
      "outputs": [
        {
          "output_type": "stream",
          "text": [
            "549\n"
          ],
          "name": "stdout"
        }
      ]
    },
    {
      "cell_type": "code",
      "metadata": {
        "colab": {
          "base_uri": "https://localhost:8080/"
        },
        "id": "UhUmpJ-BNEZU",
        "outputId": "e61e1362-6fa2-46c8-ce14-72d384652538"
      },
      "source": [
        "## Cleaning non-word\n",
        "\n",
        "print(list(sorted(unique_words)))"
      ],
      "execution_count": 9,
      "outputs": [
        {
          "output_type": "stream",
          "text": [
            "['', ' ', ' วณิพกพเนจร', ' เออ', ' เออ เอิงเอย', ' แพะ', '.', '......', 'กรมประชาสงเคราะห์', 'กระจก', 'กระทำ', 'กราบเรียน', 'กรุง', 'กลับ', 'กลาดเกลื่อน', 'กลาย', 'กล่อม', 'กว่า', 'กัด', 'กัน', 'กับ', 'การ', 'กำลัง', 'กิน', 'ก็', 'ก่อน', 'ขน', 'ขวบ', 'ขวัญ', 'ขอ', 'ของ', 'ขัน', 'ขับ', 'ขาด', 'ขาย', 'ข้า', 'ข้าง', 'ข้าวของเครื่องใช้', 'ขํา', 'คง', 'คน', 'ครับ', 'คราว', 'คลองแสนแสบ', 'คลอเคลีย', 'คลาดเคลื่อน', 'คลาน', 'ควร', 'ความ', 'ควาย', 'คว้า', 'คอก', 'คอย', 'คัน', 'คาบ', 'คำนึง', 'คิด', 'คิดคํา', 'คืน', 'คือ', 'คุก', 'คุณคุณ', 'คู่', 'ค่อย', 'ค่า', 'ค้า', 'ค้าของ', 'งาน', 'งาม', 'งี้', 'จงเห็นใจ', 'จน', 'จบ', 'จริง', 'จริงจัง', 'จริงใจ', 'จะ', 'จับ', 'จาก', 'จำเป็น', 'จิตใจ', 'จิ้งหรีด', 'จึง', 'จุดหมาย', 'จ้าง', 'จํา', 'ฉัน', 'ฉาย', 'ชน', 'ชอบ', 'ชัก', 'ชักชวน', 'ชั่วขอ', 'ชาย', 'ชาว', 'ชำระ', 'ชีวิต', 'ชีวิตไทย', 'ชีวิทยาทาน', 'ช่วย', 'ช่าง', 'ช้า', 'ชํ้า', 'ซื้อ', 'ดวงใจ', 'ดอก', 'ดอกเบี้ย', 'ดัง', 'ดาวน์', 'ดินดี', 'ดี', 'ดู', 'ด้วย', 'ตก', 'ตกระกำ', 'ตน', 'ตรอก', 'ตลาด', 'ตอกย้ำ', 'ตะราง', 'ตะวันออกกลาง', 'ตัว', 'ตา', 'ตาม', 'ตาย', 'ตายใจ', 'ตาแก', 'ตำนาน', 'ตำนานวณิพกเมืองสุพรรณ', 'ติด', 'ตี', 'ตู้', 'ต่อ', 'ต่อคํา', 'ต่าง', 'ต้อง', 'ตําบล', 'ถนน', 'ถอย', 'ถากถาง', 'ถึง', 'ถือ', 'ถูก', 'ถ้า', 'ทน', 'ทรัพย์สิน', 'ทราบ', 'ทราม', 'ทวีคูณ', 'ทอดถอนใจ', 'ทั้ง', 'ทาน', 'ทำ', 'ทิ้ง', 'ที', 'ทีวี', 'ที่', 'ทุก', 'ทุกข์', 'ทุกข์ยาก', 'ทุกข์โศกลืม', 'ท่อ', 'ท่านกิน', 'ท้องกิ่ว', 'ทํา', 'นวล', 'นอง', 'นอน', 'นับ', 'นั่ง', 'นั้น', 'นา', 'นาง', 'นาสวน', 'นาฬิกา', 'นิยาย', 'นี่', 'นี้', 'นึก', 'นึง', 'น่า', 'น้อง', 'น้ำลาย', 'น้ำใจ', 'นํ้า', 'นํ้าตา', 'นํ้าตาตก', 'บท', 'บรรเลง', 'บริสุทธิ์', 'บอก', 'บอด', 'บอดแรมรอน', 'บาง', 'บาดใจ', 'บานตะไท', 'บิน', 'บ้านนอก', 'บ้านเรา', 'ปฏิทินดารา', 'ปรนเปรอ', 'ประ ชา', 'ประการ', 'ประจบ', 'ประสบการณ์', 'ประเทศประไทย', 'ปรารถนา', 'ปริญญา', 'ปล่อย', 'ปัจจัย', 'ปัญจัย', 'ปัญญา', 'ปัญหา', 'ปาดตาล', 'ปิ่ง', 'ปิ้ง', 'ปี', 'ปี้', 'ป่น', 'ผม', 'ผัว', 'ผิด', 'ผูก', 'ผู้', 'ผ่อน', 'ผ่อนเมือง', 'ผ่าน', 'ฝน', 'ฝนฉํ่า', 'ฝา', 'ฝึก', 'พระไตรปิฎก', 'พอ', 'พอดี', 'พัด', 'พัดพา', 'พัน', 'พานพบ', 'พุทธ', 'พ่อ', 'พ่อแม่', 'พ้น', 'ฟ้า', 'มรดก', 'มรดกตกทอด', 'มอง', 'มัน', 'มา', 'มา หา', 'มากมาย', 'มี', 'มีด', 'มืด', 'มุ่งหมั่น', 'ยก', 'ยกเว้น', 'ยัง', 'ยังคอย', 'ยัน', 'ยาก', 'ยากจน', 'ยาชู', 'ยายสำอาง', 'ยาว', 'ยิ่ง', 'ยิ่งใหญ่', 'ยิ้ม', 'ยืน', 'ย่อม', 'ย่ำ', 'รน', 'รวย', 'รอ', 'ระบม', 'ระบาย', 'รัก', 'รังเกียจ', 'รัฐมนตรี', 'รับ', 'ราคา', 'ราคาตํ่ากว่า', 'ราชา', 'ราชาดาวน์', 'รำคาญ', 'ริบหรี่', 'รุ่งเรือง', 'รุ่น', 'รู้', 'ร่วง', 'ร่าง', 'ร้อง', 'ร้อนใจ', 'ร้อย', 'รํ่า', 'ลง', 'ลม', 'ลา', 'ลำบาก', 'ลำเค็ญ', 'ลืม', 'ลือ', 'ลุย', 'ลุยควัน', 'ลูกหลาน', 'ลูกเต้า', 'ล่วง', 'ล่ะ', 'ล้น', 'ล้มเหลว', 'ลําบาก', 'วกวน', 'วณิพกพเนจร', 'วณิพกเมืองสุพรรณ', 'วัด', 'วัดใจ', 'วัน', 'วัย', 'วิชา', 'วิชาแพะ', 'วีดีโอ', 'ว่า', 'ศาสดา', 'ศิลปะ', 'ศึกษา', 'สกปรก', 'สงกะสัย', 'สนใจ', 'สบาย', 'สม', 'สมัคร', 'สรร ปัญญา', 'สร้าง', 'สอง', 'สอดคล้อง', 'สอน', 'สะสม', 'สัก', 'สังคม', 'สัญญา', 'สัตว์', 'สับสน', 'สาย', 'สำมะคัญ', 'สินค้า', 'สิบ', 'สิ่ง', 'สิ่งของ', 'สิ้น', 'สี่', 'สุข', 'สุขี', 'สู่', 'ส่ง', 'หญิง', 'หนทาง', 'หนอ', 'หนัง', 'หนาวเย็น', 'หนึ่ง', 'หน้า', 'หมด', 'หมดฟ้า', 'หมื่น', 'หมุนเดือน', 'หม่ำ', 'หมํ่า', 'หยิบยก', 'หรอก', 'หรือ', 'หลง', 'หลอก', 'หลาย', 'หลาว', 'หล่นเท', 'หวัง', 'หว่าน', 'หัวอก', 'หัวใจ', 'หา', 'หิว', 'อด', 'อดกลั้น', 'อดทน', 'อยาก', 'อยู่', 'อย่า', 'อย่าง', 'ออก', 'อัน', 'อันหลัก', 'อับ', 'อาบ', 'อาย', 'อารมณ์', 'อาหาร', 'อิงเอย', 'อิจฉา', 'อื่น', 'อุดม', 'อุดหนุน', 'อ่อนเพลีย', 'อ่าง', 'อ่าน', 'เกิด', 'เกิน', 'เก่า', 'เขา', 'เขาวกวน', 'เขียน', 'เข่า', 'เข้าใจ', 'เคย', 'เครียด', 'เครื่อง', 'เงิน', 'เงินตรา', 'เงินทอง', 'เงี๊ยะ', 'เจอ', 'เจียม', 'เจือจาน', 'เจ็บ', 'เจ้าจง', 'เจ้านาย', 'เจ้าแหก', 'เฒ่า', 'เดิน', 'เดินทาง', 'เดือดร้อน', 'เดือน', 'เตือน', 'เทียม', 'เท่า', 'เท่าที่', 'เธอ', 'เนื้อตัว', 'เบียดเบียนใจ', 'เปลี่ยนใจ', 'เป็น', 'เป็นอยู่', 'เผื่อ', 'เพราะ', 'เพลง', 'เพิ่ง', 'เพี่อ', 'เพื่อ', 'เพื่อน', 'เมีย', 'เมือง', 'เมืองไทย', 'เมื่อ', 'เย็น', 'เรา', 'เรียน', 'เรียม', 'เรื่อง', 'เรื่องราว', 'เลย', 'เลว', 'เลียขา', 'เลือก', 'เลื้อย', 'เล็กน้อย', 'เล่น', 'เล่า', 'เล่าขาน', 'เล่าเรียน', 'เวลา', 'เศรษฐกิจ', 'เศษ', 'เสริม', 'เสีย', 'เสียใจ', 'เหมาะสม', 'เหมือน', 'เหยียนเหยียด', 'เหลวไหล', 'เหิน', 'เห็น', 'เห็นใจ', 'เออ', 'เอา', 'เอาเปรียบ', 'เอิงเอย', 'เอ็ง', 'เอ้า', 'เอ๋ย', 'แก', 'แกรังเกียจ', 'แก่', 'แก้ม', 'แก้วตา', 'แข้ง', 'แค่', 'แต่', 'แนบ', 'แบบ', 'แพง', 'แพะ', 'แพะรับบาป', 'แม่', 'แม่เฒ่า', 'แม้', 'แย่ง', 'แย้ม', 'แรง', 'แรงงาน', 'แลก', 'แล้ว', 'แสบ', 'แสลงใจ', 'แหลกเหลว', 'แห่ง', 'โกย', 'โดน', 'โต', 'โปรด', 'โป๊', 'โลก', 'ใกล้', 'ใคร', 'ใจ', 'ใจหาย', 'ใช่', 'ใช้', 'ใด', 'ใน', 'ใฝ่ฝัน', 'ใส', 'ใหญ่', 'ใหม่', 'ให้', 'ไกล', 'ไก่', 'ได้', 'ไทย', 'ไป', 'ไม่', 'ไม้', 'ไว้', 'ไหน', 'ไหม', 'ไหร่', 'ไหล', 'ไหว', 'ไอ', 'ๆ', '…', '….']\n"
          ],
          "name": "stdout"
        }
      ]
    },
    {
      "cell_type": "code",
      "metadata": {
        "colab": {
          "base_uri": "https://localhost:8080/"
        },
        "id": "dkt9oLUIX64U",
        "outputId": "32d1853f-1ea0-442d-a231-85c34f4ed4bd"
      },
      "source": [
        "## Finding non-word\n",
        "\n",
        "print(\"''\")\n",
        "print([i for i in unique_words if i == ''])\n",
        "print(\"\\n'.'\")\n",
        "print([i for i in unique_words if '.' in i])\n",
        "print(\"\\n'…'\")\n",
        "print([i for i in unique_words if '…' in i])\n",
        "print(\"\\n'ๆ'\")\n",
        "print([i for i in unique_words if 'ๆ' in i])\n",
        "print(\"\\n' '\")\n",
        "print([i for i in unique_words if ' ' in i])"
      ],
      "execution_count": 10,
      "outputs": [
        {
          "output_type": "stream",
          "text": [
            "''\n",
            "['']\n",
            "\n",
            "'.'\n",
            "['….', '.', '......']\n",
            "\n",
            "'…'\n",
            "['….', '…']\n",
            "\n",
            "'ๆ'\n",
            "['ๆ']\n",
            "\n",
            "' '\n",
            "['สรร ปัญญา', 'มา หา', ' แพะ', ' วณิพกพเนจร', ' เออ เอิงเอย', 'ประ ชา', ' ', ' เออ']\n"
          ],
          "name": "stdout"
        }
      ]
    },
    {
      "cell_type": "code",
      "metadata": {
        "id": "ijfl3T5Hv9L2"
      },
      "source": [
        "## Remove non-word\n",
        "\n",
        "remove_space = {i.replace(' ', '') for i in unique_words}\n",
        "remove_char = {i for i in remove_space\n",
        "                if i == ''\n",
        "                or '.' in i\n",
        "                or '…' in i\n",
        "                or 'ๆ' in i}\n",
        "clean_words = remove_space - remove_char\n",
        "# clean_words"
      ],
      "execution_count": 11,
      "outputs": []
    },
    {
      "cell_type": "code",
      "metadata": {
        "colab": {
          "base_uri": "https://localhost:8080/"
        },
        "id": "8PSPROT3atFL",
        "outputId": "86bf6d2e-806c-4b8b-b4a8-3e313e6b2ede"
      },
      "source": [
        "len(clean_words)"
      ],
      "execution_count": 24,
      "outputs": [
        {
          "output_type": "execute_result",
          "data": {
            "text/plain": [
              "539"
            ]
          },
          "metadata": {
            "tags": []
          },
          "execution_count": 24
        }
      ]
    },
    {
      "cell_type": "code",
      "metadata": {
        "id": "1MtI4CbIF5LV"
      },
      "source": [
        "vocab_size = len(clean_words)\n",
        "\n",
        "word2int = {}\n",
        "int2word = {}\n",
        "\n",
        "for i, word in enumerate(clean_words):\n",
        "    word2int[word] = i\n",
        "    int2word[i] = word\n",
        "\n",
        "# word2int\n",
        "# int2word"
      ],
      "execution_count": 12,
      "outputs": []
    },
    {
      "cell_type": "markdown",
      "metadata": {
        "id": "Wfeq1sERKtV6"
      },
      "source": [
        "# Prepare Sentence"
      ]
    },
    {
      "cell_type": "code",
      "metadata": {
        "id": "2WNupX57GK28"
      },
      "source": [
        "sentences = []\n",
        "for st in corpus:\n",
        "    tokens = deepcut.tokenize(st.strip())\n",
        "    sentences.append(tokens)\n",
        "# sentences"
      ],
      "execution_count": 13,
      "outputs": []
    },
    {
      "cell_type": "code",
      "metadata": {
        "id": "TcOk0S5LA241"
      },
      "source": [
        "## Remove non-word\n",
        "remove_space_sentences = [[i.replace(' ', '') for i in st]\n",
        "                          for st in sentences]  # Remove space\n",
        "remove_empty_word = [[i for i in st if i != ''] for st in remove_space_sentences]\n",
        "clean_sentences = [[i for i in st\n",
        "                    if '.' not in i\n",
        "                    and '…' not in i\n",
        "                    and 'ๆ' not in i]\n",
        "                   for st in remove_empty_word if st]\n",
        "# clean_sentences"
      ],
      "execution_count": 14,
      "outputs": []
    },
    {
      "cell_type": "markdown",
      "metadata": {
        "id": "WOTo62ADISVw"
      },
      "source": [
        "# Use 2-Gram"
      ]
    },
    {
      "cell_type": "code",
      "metadata": {
        "id": "rPsj6E4qGUPr",
        "colab": {
          "base_uri": "https://localhost:8080/"
        },
        "outputId": "4906ad35-bf81-4346-d04f-0d00112f80f0"
      },
      "source": [
        "WINDOW_SIZE = 2\n",
        "\n",
        "data = []\n",
        "for sentence in clean_sentences:\n",
        "    for word_index, word in enumerate(sentence):\n",
        "        for nb_word in sentence[max(word_index - WINDOW_SIZE, 0) : min(word_index + WINDOW_SIZE, len(sentence))+1] : \n",
        "            if nb_word != word:\n",
        "                data.append([word, nb_word])      \n",
        "data[:10]"
      ],
      "execution_count": 22,
      "outputs": [
        {
          "output_type": "execute_result",
          "data": {
            "text/plain": [
              "4560"
            ]
          },
          "metadata": {
            "tags": []
          },
          "execution_count": 22
        }
      ]
    },
    {
      "cell_type": "code",
      "metadata": {
        "colab": {
          "base_uri": "https://localhost:8080/"
        },
        "id": "zfKE_6IMag85",
        "outputId": "04a6e06e-0170-496b-b70f-bcdb1c7632c8"
      },
      "source": [
        "len(data)"
      ],
      "execution_count": 23,
      "outputs": [
        {
          "output_type": "execute_result",
          "data": {
            "text/plain": [
              "4560"
            ]
          },
          "metadata": {
            "tags": []
          },
          "execution_count": 23
        }
      ]
    },
    {
      "cell_type": "markdown",
      "metadata": {
        "id": "oev96LjJaTmF"
      },
      "source": [
        "# Create dataset"
      ]
    },
    {
      "cell_type": "code",
      "metadata": {
        "colab": {
          "base_uri": "https://localhost:8080/"
        },
        "id": "WHt1REbhGa5P",
        "outputId": "7b8df256-f82d-458b-ac06-13a717a8b2a7"
      },
      "source": [
        "def to_one_hot(data_point_index, vocab_size):\n",
        "    temp = np.zeros(vocab_size)\n",
        "    temp[data_point_index] = 1\n",
        "    return temp\n",
        "\n",
        "x_train = [] # input word\n",
        "y_train = [] # output word\n",
        "for data_word in data:\n",
        "    x_train.append(to_one_hot(word2int[ data_word[0] ], vocab_size))\n",
        "    y_train.append(to_one_hot(word2int[ data_word[1] ], vocab_size))\n",
        "\n",
        "x_train = np.asarray(x_train)\n",
        "y_train = np.asarray(y_train)\n",
        "\n",
        "x_train.shape, y_train.shape"
      ],
      "execution_count": 21,
      "outputs": [
        {
          "output_type": "execute_result",
          "data": {
            "text/plain": [
              "((4560, 539), (4560, 539))"
            ]
          },
          "metadata": {
            "tags": []
          },
          "execution_count": 21
        }
      ]
    },
    {
      "cell_type": "code",
      "metadata": {
        "id": "N1k5_D7iGsZg"
      },
      "source": [
        "# x_train\n",
        "# y_train"
      ],
      "execution_count": 26,
      "outputs": []
    },
    {
      "cell_type": "markdown",
      "metadata": {
        "id": "S_nlUJLGbSTQ"
      },
      "source": [
        "# Create Model"
      ]
    },
    {
      "cell_type": "code",
      "metadata": {
        "id": "boM6eYpLG0kG"
      },
      "source": [
        "filename = 'w2v.h5'\n",
        "checkpoint = callbacks.ModelCheckpoint(filename, monitor='loss', verbose=1, save_best_only=True, mode='min')"
      ],
      "execution_count": 61,
      "outputs": []
    },
    {
      "cell_type": "code",
      "metadata": {
        "id": "XQV8IsBeG9KM"
      },
      "source": [
        "model = keras.Sequential([\n",
        "    layers.Dense(100, activation='relu', input_shape=[vocab_size]),\n",
        "    layers.Dropout(0.25),\n",
        "    layers.Dense(vocab_size, activation = 'softmax')\n",
        "])"
      ],
      "execution_count": 62,
      "outputs": []
    },
    {
      "cell_type": "code",
      "metadata": {
        "colab": {
          "base_uri": "https://localhost:8080/"
        },
        "id": "w4AgdSNEHPpZ",
        "outputId": "93824af4-c2ea-4b4d-cba5-c7aaec52e413"
      },
      "source": [
        "model.compile(\n",
        "    optimizer='adam',\n",
        "    loss='categorical_crossentropy')\n",
        "\n",
        "model.summary()"
      ],
      "execution_count": 63,
      "outputs": [
        {
          "output_type": "stream",
          "text": [
            "Model: \"sequential_3\"\n",
            "_________________________________________________________________\n",
            "Layer (type)                 Output Shape              Param #   \n",
            "=================================================================\n",
            "dense_20 (Dense)             (None, 100)               54000     \n",
            "_________________________________________________________________\n",
            "dropout_3 (Dropout)          (None, 100)               0         \n",
            "_________________________________________________________________\n",
            "dense_21 (Dense)             (None, 539)               54439     \n",
            "=================================================================\n",
            "Total params: 108,439\n",
            "Trainable params: 108,439\n",
            "Non-trainable params: 0\n",
            "_________________________________________________________________\n"
          ],
          "name": "stdout"
        }
      ]
    },
    {
      "cell_type": "code",
      "metadata": {
        "colab": {
          "base_uri": "https://localhost:8080/"
        },
        "id": "usoBaRuNWWOu",
        "outputId": "581407dc-2b39-4f59-e933-040ffae10d13"
      },
      "source": [
        "model.optimizer.learning_rate"
      ],
      "execution_count": 64,
      "outputs": [
        {
          "output_type": "execute_result",
          "data": {
            "text/plain": [
              "<tf.Variable 'learning_rate:0' shape=() dtype=float32, numpy=0.001>"
            ]
          },
          "metadata": {
            "tags": []
          },
          "execution_count": 64
        }
      ]
    },
    {
      "cell_type": "code",
      "metadata": {
        "id": "MDxpZXkdHdj5"
      },
      "source": [
        "class PlotLosses(callbacks.Callback):\n",
        "    def on_train_begin(self, logs={}):\n",
        "        self.i = 0\n",
        "        self.x = []\n",
        "        self.losses = []\n",
        "        self.val_losses = []\n",
        "        \n",
        "        self.fig = plt.figure()\n",
        "        \n",
        "        self.logs = []\n",
        "\n",
        "    def on_epoch_end(self, epoch, logs=None):\n",
        "        if logs is None:\n",
        "            logs = {}\n",
        "        self.logs.append(logs)\n",
        "        self.x.append(self.i)\n",
        "        self.losses.append(logs.get('loss'))\n",
        "        self.i += 1\n",
        "        \n",
        "        clear_output(wait=True)\n",
        "        plt.plot(self.x, self.losses, label=\"loss\")\n",
        "        plt.legend()\n",
        "        plt.show();\n",
        "        \n",
        "plot_losses = PlotLosses()"
      ],
      "execution_count": 65,
      "outputs": []
    },
    {
      "cell_type": "code",
      "metadata": {
        "id": "9vD6PhV9l09z"
      },
      "source": [
        "earlystopping = callbacks.EarlyStopping(monitor='loss', patience=30, restore_best_weights=True)"
      ],
      "execution_count": 66,
      "outputs": []
    },
    {
      "cell_type": "code",
      "metadata": {
        "colab": {
          "base_uri": "https://localhost:8080/",
          "height": 267
        },
        "id": "VfXPM6oWHhrO",
        "outputId": "040fa435-60c2-4506-97da-4d97fb5bb686"
      },
      "source": [
        "history = model.fit(\n",
        "    x_train,\n",
        "    y_train,\n",
        "    batch_size = 1,\n",
        "    epochs=1000,\n",
        "    verbose=1,\n",
        "    callbacks = [checkpoint, plot_losses, earlystopping])"
      ],
      "execution_count": 67,
      "outputs": [
        {
          "output_type": "display_data",
          "data": {
            "image/png": "[encoded data removed]",
            "text/plain": [
              "<Figure size 432x288 with 1 Axes>"
            ]
          },
          "metadata": {
            "tags": [],
            "needs_background": "light"
          }
        }
      ]
    },
    {
      "cell_type": "code",
      "metadata": {
        "id": "Z5A1_d0RtQcN"
      },
      "source": [
        "import pandas as pd"
      ],
      "execution_count": 72,
      "outputs": []
    },
    {
      "cell_type": "code",
      "metadata": {
        "colab": {
          "base_uri": "https://localhost:8080/"
        },
        "id": "EJjqasRFu1Sw",
        "outputId": "d939dbef-7603-451a-f1cb-6b95c7b0fcce"
      },
      "source": [
        "pd.Series(history.history['loss'])"
      ],
      "execution_count": 84,
      "outputs": [
        {
          "output_type": "execute_result",
          "data": {
            "text/plain": [
              "0     5.872875\n",
              "1     5.266715\n",
              "2     4.698549\n",
              "3     4.150736\n",
              "4     3.731492\n",
              "        ...   \n",
              "75    2.701858\n",
              "76    2.679082\n",
              "77    2.682815\n",
              "78    2.699094\n",
              "79    2.673734\n",
              "Length: 80, dtype: float64"
            ]
          },
          "metadata": {
            "tags": []
          },
          "execution_count": 84
        }
      ]
    },
    {
      "cell_type": "code",
      "metadata": {
        "colab": {
          "base_uri": "https://localhost:8080/"
        },
        "id": "3eHgIG7UtAqr",
        "outputId": "c66ee2ab-b877-4029-dc51-42ad6bd736f8"
      },
      "source": [
        "pd.Series(history.history['loss']).idxmin()"
      ],
      "execution_count": 80,
      "outputs": [
        {
          "output_type": "execute_result",
          "data": {
            "text/plain": [
              "49"
            ]
          },
          "metadata": {
            "tags": []
          },
          "execution_count": 80
        }
      ]
    },
    {
      "cell_type": "code",
      "metadata": {
        "colab": {
          "base_uri": "https://localhost:8080/"
        },
        "id": "o_OvpaJQvDS-",
        "outputId": "7cf486d3-9ac1-48d1-d4c4-9fe37177839c"
      },
      "source": [
        "pd.Series(history.history['loss']).min()"
      ],
      "execution_count": 85,
      "outputs": [
        {
          "output_type": "execute_result",
          "data": {
            "text/plain": [
              "2.673379421234131"
            ]
          },
          "metadata": {
            "tags": []
          },
          "execution_count": 85
        }
      ]
    },
    {
      "cell_type": "markdown",
      "metadata": {
        "id": "43t81eOb4a7O"
      },
      "source": [
        "# Load model from checkpoint"
      ]
    },
    {
      "cell_type": "code",
      "metadata": {
        "id": "XFo783IHKD_-"
      },
      "source": [
        "checkpoint_model = models.load_model(filename)"
      ],
      "execution_count": 87,
      "outputs": []
    },
    {
      "cell_type": "code",
      "metadata": {
        "colab": {
          "base_uri": "https://localhost:8080/"
        },
        "id": "jJjkbomsL_n1",
        "outputId": "aabbcf05-2832-4f15-9108-c277c2a75f78"
      },
      "source": [
        "wb1 = checkpoint_model.layers[0].get_weights()\n",
        "wb1[0].shape, wb1[1].shape"
      ],
      "execution_count": 90,
      "outputs": [
        {
          "output_type": "execute_result",
          "data": {
            "text/plain": [
              "((539, 100), (100,))"
            ]
          },
          "metadata": {
            "tags": []
          },
          "execution_count": 90
        }
      ]
    },
    {
      "cell_type": "code",
      "metadata": {
        "colab": {
          "base_uri": "https://localhost:8080/"
        },
        "id": "TwH1M6OaMFPr",
        "outputId": "0cf88403-2d94-4ad0-93f5-e5ce39896804"
      },
      "source": [
        "w1 = wb1[0]\n",
        "b1 = wb1[1]\n",
        "\n",
        "vectors = w1 + b1\n",
        "\n",
        "vectors.shape"
      ],
      "execution_count": 91,
      "outputs": [
        {
          "output_type": "execute_result",
          "data": {
            "text/plain": [
              "(539, 100)"
            ]
          },
          "metadata": {
            "tags": []
          },
          "execution_count": 91
        }
      ]
    },
    {
      "cell_type": "code",
      "metadata": {
        "id": "0PgLhMRxNMlE"
      },
      "source": [
        "with open('w2v_history_model', 'wb') as file:\n",
        "    p.dump(history.history, file)"
      ],
      "execution_count": 94,
      "outputs": []
    },
    {
      "cell_type": "code",
      "metadata": {
        "id": "bMoQ1FydNZGQ"
      },
      "source": [
        "## Use to load history of model training\n",
        "\n",
        "# with open('w2v_history_model', 'rb') as file:\n",
        "#      his = p.load(file)"
      ],
      "execution_count": 93,
      "outputs": []
    },
    {
      "cell_type": "markdown",
      "metadata": {
        "id": "A6O7kyOM4-Fh"
      },
      "source": [
        "# Testing calculate w/ euclidean distance"
      ]
    },
    {
      "cell_type": "code",
      "metadata": {
        "id": "qrGRToevOUpZ"
      },
      "source": [
        "def euclidean_dist(vec1, vec2):\n",
        "    return np.sqrt(np.sum((vec1-vec2)**2))\n",
        "\n",
        "def find_closest(word_index, vectors):\n",
        "    min_dist = 10000 \n",
        "    min_index = -1\n",
        "    query_vector = vectors[word_index]\n",
        "    for index, vector in enumerate(vectors):\n",
        "        if euclidean_dist(vector, query_vector) < min_dist and not np.array_equal(vector, query_vector):\n",
        "            min_dist = euclidean_dist(vector, query_vector)\n",
        "            min_index = index\n",
        "    return min_index"
      ],
      "execution_count": 95,
      "outputs": []
    },
    {
      "cell_type": "code",
      "metadata": {
        "colab": {
          "base_uri": "https://localhost:8080/"
        },
        "id": "YdtfX3jLOVvt",
        "outputId": "7e0216c3-7a6c-4713-e2de-99cf589b538e"
      },
      "source": [
        "print(int2word[find_closest(word2int['ฟ้า'], vectors)])\n",
        "print(int2word[find_closest(word2int['จน'], vectors)])\n",
        "print(int2word[find_closest(word2int['ยาก'], vectors)])"
      ],
      "execution_count": 96,
      "outputs": [
        {
          "output_type": "stream",
          "text": [
            "ตำนานวณิพกเมืองสุพรรณ\n",
            "ตำนานวณิพกเมืองสุพรรณ\n",
            "วณิพกพเนจร\n"
          ],
          "name": "stdout"
        }
      ]
    },
    {
      "cell_type": "markdown",
      "metadata": {
        "id": "IBrBLY8R9C4h"
      },
      "source": [
        "# Export file to plot in https://projector.tensorflow.org/"
      ]
    },
    {
      "cell_type": "code",
      "metadata": {
        "id": "GJGc9AM2OYHo"
      },
      "source": [
        "import csv\n",
        "\n",
        "with open('w2v.tsv', 'w') as out_file:\n",
        "    tsv_writer = csv.writer(out_file, delimiter='\\t')\n",
        "    for v in vectors:\n",
        "        tsv_writer.writerow(v)\n",
        "        \n",
        "with open('label.tsv', 'w') as out_file:\n",
        "    tsv_writer = csv.writer(out_file, delimiter='\\t')\n",
        "    for word in word2int:  \n",
        "        tsv_writer.writerow([word])"
      ],
      "execution_count": 97,
      "outputs": []
    }
  ]
}