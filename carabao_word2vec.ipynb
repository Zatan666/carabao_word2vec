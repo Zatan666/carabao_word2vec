{
  "nbformat": 4,
  "nbformat_minor": 0,
  "metadata": {
    "colab": {
      "name": "carabao_word2vec.ipynb",
      "provenance": [],
      "collapsed_sections": [
        "gK-dT2gIIjs1",
        "7ydwjmm7KQcf",
        "Wfeq1sERKtV6",
        "WOTo62ADISVw",
        "oev96LjJaTmF",
        "S_nlUJLGbSTQ",
        "43t81eOb4a7O",
        "A6O7kyOM4-Fh",
        "IBrBLY8R9C4h"
      ]
    },
    "kernelspec": {
      "name": "python3",
      "display_name": "Python 3"
    },
    "language_info": {
      "name": "python"
    }
  },
  "cells": [
    {
      "cell_type": "markdown",
      "metadata": {
        "id": "gK-dT2gIIjs1"
      },
      "source": [
        "# Packages & Lyrics file"
      ]
    },
    {
      "cell_type": "code",
      "metadata": {
        "id": "Lf9o686GDn1c"
      },
      "source": [
        "! pip install --quiet deepcut"
      ],
      "execution_count": 7,
      "outputs": []
    },
    {
      "cell_type": "code",
      "metadata": {
        "colab": {
          "base_uri": "https://localhost:8080/",
          "height": 17
        },
        "id": "fdM2WhSHDbrf",
        "outputId": "3c7236c5-390f-4609-ec49-3fb0c4b8d534"
      },
      "source": [
        "import numpy as np\n",
        "import deepcut\n",
        "\n",
        "from tensorflow import keras\n",
        "from tensorflow.keras import layers, callbacks, utils, models\n",
        "\n",
        "import matplotlib.pyplot as plt\n",
        "from IPython.display import clear_output\n",
        "\n",
        "import plotly\n",
        "import plotly.graph_objs as go\n",
        "plotly.offline.init_notebook_mode(connected=True)\n",
        "\n",
        "import pickle as p"
      ],
      "execution_count": 8,
      "outputs": [
        {
          "output_type": "display_data",
          "data": {
            "text/html": [
              "        <script type=\"text/javascript\">\n",
              "        window.PlotlyConfig = {MathJaxConfig: 'local'};\n",
              "        if (window.MathJax) {MathJax.Hub.Config({SVG: {font: \"STIX-Web\"}});}\n",
              "        if (typeof require !== 'undefined') {\n",
              "        require.undef(\"plotly\");\n",
              "        requirejs.config({\n",
              "            paths: {\n",
              "                'plotly': ['https://cdn.plot.ly/plotly-latest.min']\n",
              "            }\n",
              "        });\n",
              "        require(['plotly'], function(Plotly) {\n",
              "            window._Plotly = Plotly;\n",
              "        });\n",
              "        }\n",
              "        </script>\n",
              "        "
            ]
          },
          "metadata": {
            "tags": []
          }
        }
      ]
    },
    {
      "cell_type": "code",
      "metadata": {
        "id": "uY2YeOamECnT",
        "colab": {
          "base_uri": "https://localhost:8080/"
        },
        "outputId": "e3c487e6-0470-4962-ff1e-ce1519a996e0"
      },
      "source": [
        "with open('lyrics.txt') as file:\n",
        "    corpus = file.read().splitlines()  # Read text in list of lines\n",
        "    \n",
        "print(len(corpus))  # Numbers of line"
      ],
      "execution_count": 9,
      "outputs": [
        {
          "output_type": "stream",
          "text": [
            "218\n"
          ],
          "name": "stdout"
        }
      ]
    },
    {
      "cell_type": "markdown",
      "metadata": {
        "id": "7ydwjmm7KQcf"
      },
      "source": [
        "# Bag of words by Tokenize w/ deepcut"
      ]
    },
    {
      "cell_type": "code",
      "metadata": {
        "id": "mJAmL5WaEgFP"
      },
      "source": [
        "words = []\n",
        "for sentences in corpus:\n",
        "    tokens = deepcut.tokenize(sentences.strip())\n",
        "    for word in tokens:\n",
        "        words.append(word)"
      ],
      "execution_count": 10,
      "outputs": []
    },
    {
      "cell_type": "code",
      "metadata": {
        "colab": {
          "base_uri": "https://localhost:8080/"
        },
        "id": "9eoScf7EF1bx",
        "outputId": "ff9d3d04-d661-4ead-cef3-29105bad6df0"
      },
      "source": [
        "unique_words = set(words)\n",
        "print(len(unique_words))"
      ],
      "execution_count": 11,
      "outputs": [
        {
          "output_type": "stream",
          "text": [
            "549\n"
          ],
          "name": "stdout"
        }
      ]
    },
    {
      "cell_type": "code",
      "metadata": {
        "colab": {
          "base_uri": "https://localhost:8080/"
        },
        "id": "UhUmpJ-BNEZU",
        "outputId": "293d3944-11bf-423e-b446-e5a483d6142c"
      },
      "source": [
        "## Cleaning non-word\n",
        "\n",
        "print(list(sorted(unique_words)))"
      ],
      "execution_count": 12,
      "outputs": [
        {
          "output_type": "stream",
          "text": [
            "['', ' ', ' วณิพกพเนจร', ' เออ', ' เออ เอิงเอย', ' แพะ', '.', '......', 'กรมประชาสงเคราะห์', 'กระจก', 'กระทำ', 'กราบเรียน', 'กรุง', 'กลับ', 'กลาดเกลื่อน', 'กลาย', 'กล่อม', 'กว่า', 'กัด', 'กัน', 'กับ', 'การ', 'กำลัง', 'กิน', 'ก็', 'ก่อน', 'ขน', 'ขวบ', 'ขวัญ', 'ขอ', 'ของ', 'ขัน', 'ขับ', 'ขาด', 'ขาย', 'ข้า', 'ข้าง', 'ข้าวของเครื่องใช้', 'ขํา', 'คง', 'คน', 'ครับ', 'คราว', 'คลองแสนแสบ', 'คลอเคลีย', 'คลาดเคลื่อน', 'คลาน', 'ควร', 'ความ', 'ควาย', 'คว้า', 'คอก', 'คอย', 'คัน', 'คาบ', 'คำนึง', 'คิด', 'คิดคํา', 'คืน', 'คือ', 'คุก', 'คุณคุณ', 'คู่', 'ค่อย', 'ค่า', 'ค้า', 'ค้าของ', 'งาน', 'งาม', 'งี้', 'จงเห็นใจ', 'จน', 'จบ', 'จริง', 'จริงจัง', 'จริงใจ', 'จะ', 'จับ', 'จาก', 'จำเป็น', 'จิตใจ', 'จิ้งหรีด', 'จึง', 'จุดหมาย', 'จ้าง', 'จํา', 'ฉัน', 'ฉาย', 'ชน', 'ชอบ', 'ชัก', 'ชักชวน', 'ชั่วขอ', 'ชาย', 'ชาว', 'ชำระ', 'ชีวิต', 'ชีวิตไทย', 'ชีวิทยาทาน', 'ช่วย', 'ช่าง', 'ช้า', 'ชํ้า', 'ซื้อ', 'ดวงใจ', 'ดอก', 'ดอกเบี้ย', 'ดัง', 'ดาวน์', 'ดินดี', 'ดี', 'ดู', 'ด้วย', 'ตก', 'ตกระกำ', 'ตน', 'ตรอก', 'ตลาด', 'ตอกย้ำ', 'ตะราง', 'ตะวันออกกลาง', 'ตัว', 'ตา', 'ตาม', 'ตาย', 'ตายใจ', 'ตาแก', 'ตำนาน', 'ตำนานวณิพกเมืองสุพรรณ', 'ติด', 'ตี', 'ตู้', 'ต่อ', 'ต่อคํา', 'ต่าง', 'ต้อง', 'ตําบล', 'ถนน', 'ถอย', 'ถากถาง', 'ถึง', 'ถือ', 'ถูก', 'ถ้า', 'ทน', 'ทรัพย์สิน', 'ทราบ', 'ทราม', 'ทวีคูณ', 'ทอดถอนใจ', 'ทั้ง', 'ทาน', 'ทำ', 'ทิ้ง', 'ที', 'ทีวี', 'ที่', 'ทุก', 'ทุกข์', 'ทุกข์ยาก', 'ทุกข์โศกลืม', 'ท่อ', 'ท่านกิน', 'ท้องกิ่ว', 'ทํา', 'นวล', 'นอง', 'นอน', 'นับ', 'นั่ง', 'นั้น', 'นา', 'นาง', 'นาสวน', 'นาฬิกา', 'นิยาย', 'นี่', 'นี้', 'นึก', 'นึง', 'น่า', 'น้อง', 'น้ำลาย', 'น้ำใจ', 'นํ้า', 'นํ้าตา', 'นํ้าตาตก', 'บท', 'บรรเลง', 'บริสุทธิ์', 'บอก', 'บอด', 'บอดแรมรอน', 'บาง', 'บาดใจ', 'บานตะไท', 'บิน', 'บ้านนอก', 'บ้านเรา', 'ปฏิทินดารา', 'ปรนเปรอ', 'ประ ชา', 'ประการ', 'ประจบ', 'ประสบการณ์', 'ประเทศประไทย', 'ปรารถนา', 'ปริญญา', 'ปล่อย', 'ปัจจัย', 'ปัญจัย', 'ปัญญา', 'ปัญหา', 'ปาดตาล', 'ปิ่ง', 'ปิ้ง', 'ปี', 'ปี้', 'ป่น', 'ผม', 'ผัว', 'ผิด', 'ผูก', 'ผู้', 'ผ่อน', 'ผ่อนเมือง', 'ผ่าน', 'ฝน', 'ฝนฉํ่า', 'ฝา', 'ฝึก', 'พระไตรปิฎก', 'พอ', 'พอดี', 'พัด', 'พัดพา', 'พัน', 'พานพบ', 'พุทธ', 'พ่อ', 'พ่อแม่', 'พ้น', 'ฟ้า', 'มรดก', 'มรดกตกทอด', 'มอง', 'มัน', 'มา', 'มา หา', 'มากมาย', 'มี', 'มีด', 'มืด', 'มุ่งหมั่น', 'ยก', 'ยกเว้น', 'ยัง', 'ยังคอย', 'ยัน', 'ยาก', 'ยากจน', 'ยาชู', 'ยายสำอาง', 'ยาว', 'ยิ่ง', 'ยิ่งใหญ่', 'ยิ้ม', 'ยืน', 'ย่อม', 'ย่ำ', 'รน', 'รวย', 'รอ', 'ระบม', 'ระบาย', 'รัก', 'รังเกียจ', 'รัฐมนตรี', 'รับ', 'ราคา', 'ราคาตํ่ากว่า', 'ราชา', 'ราชาดาวน์', 'รำคาญ', 'ริบหรี่', 'รุ่งเรือง', 'รุ่น', 'รู้', 'ร่วง', 'ร่าง', 'ร้อง', 'ร้อนใจ', 'ร้อย', 'รํ่า', 'ลง', 'ลม', 'ลา', 'ลำบาก', 'ลำเค็ญ', 'ลืม', 'ลือ', 'ลุย', 'ลุยควัน', 'ลูกหลาน', 'ลูกเต้า', 'ล่วง', 'ล่ะ', 'ล้น', 'ล้มเหลว', 'ลําบาก', 'วกวน', 'วณิพกพเนจร', 'วณิพกเมืองสุพรรณ', 'วัด', 'วัดใจ', 'วัน', 'วัย', 'วิชา', 'วิชาแพะ', 'วีดีโอ', 'ว่า', 'ศาสดา', 'ศิลปะ', 'ศึกษา', 'สกปรก', 'สงกะสัย', 'สนใจ', 'สบาย', 'สม', 'สมัคร', 'สรร ปัญญา', 'สร้าง', 'สอง', 'สอดคล้อง', 'สอน', 'สะสม', 'สัก', 'สังคม', 'สัญญา', 'สัตว์', 'สับสน', 'สาย', 'สำมะคัญ', 'สินค้า', 'สิบ', 'สิ่ง', 'สิ่งของ', 'สิ้น', 'สี่', 'สุข', 'สุขี', 'สู่', 'ส่ง', 'หญิง', 'หนทาง', 'หนอ', 'หนัง', 'หนาวเย็น', 'หนึ่ง', 'หน้า', 'หมด', 'หมดฟ้า', 'หมื่น', 'หมุนเดือน', 'หม่ำ', 'หมํ่า', 'หยิบยก', 'หรอก', 'หรือ', 'หลง', 'หลอก', 'หลาย', 'หลาว', 'หล่นเท', 'หวัง', 'หว่าน', 'หัวอก', 'หัวใจ', 'หา', 'หิว', 'อด', 'อดกลั้น', 'อดทน', 'อยาก', 'อยู่', 'อย่า', 'อย่าง', 'ออก', 'อัน', 'อันหลัก', 'อับ', 'อาบ', 'อาย', 'อารมณ์', 'อาหาร', 'อิงเอย', 'อิจฉา', 'อื่น', 'อุดม', 'อุดหนุน', 'อ่อนเพลีย', 'อ่าง', 'อ่าน', 'เกิด', 'เกิน', 'เก่า', 'เขา', 'เขาวกวน', 'เขียน', 'เข่า', 'เข้าใจ', 'เคย', 'เครียด', 'เครื่อง', 'เงิน', 'เงินตรา', 'เงินทอง', 'เงี๊ยะ', 'เจอ', 'เจียม', 'เจือจาน', 'เจ็บ', 'เจ้าจง', 'เจ้านาย', 'เจ้าแหก', 'เฒ่า', 'เดิน', 'เดินทาง', 'เดือดร้อน', 'เดือน', 'เตือน', 'เทียม', 'เท่า', 'เท่าที่', 'เธอ', 'เนื้อตัว', 'เบียดเบียนใจ', 'เปลี่ยนใจ', 'เป็น', 'เป็นอยู่', 'เผื่อ', 'เพราะ', 'เพลง', 'เพิ่ง', 'เพี่อ', 'เพื่อ', 'เพื่อน', 'เมีย', 'เมือง', 'เมืองไทย', 'เมื่อ', 'เย็น', 'เรา', 'เรียน', 'เรียม', 'เรื่อง', 'เรื่องราว', 'เลย', 'เลว', 'เลียขา', 'เลือก', 'เลื้อย', 'เล็กน้อย', 'เล่น', 'เล่า', 'เล่าขาน', 'เล่าเรียน', 'เวลา', 'เศรษฐกิจ', 'เศษ', 'เสริม', 'เสีย', 'เสียใจ', 'เหมาะสม', 'เหมือน', 'เหยียนเหยียด', 'เหลวไหล', 'เหิน', 'เห็น', 'เห็นใจ', 'เออ', 'เอา', 'เอาเปรียบ', 'เอิงเอย', 'เอ็ง', 'เอ้า', 'เอ๋ย', 'แก', 'แกรังเกียจ', 'แก่', 'แก้ม', 'แก้วตา', 'แข้ง', 'แค่', 'แต่', 'แนบ', 'แบบ', 'แพง', 'แพะ', 'แพะรับบาป', 'แม่', 'แม่เฒ่า', 'แม้', 'แย่ง', 'แย้ม', 'แรง', 'แรงงาน', 'แลก', 'แล้ว', 'แสบ', 'แสลงใจ', 'แหลกเหลว', 'แห่ง', 'โกย', 'โดน', 'โต', 'โปรด', 'โป๊', 'โลก', 'ใกล้', 'ใคร', 'ใจ', 'ใจหาย', 'ใช่', 'ใช้', 'ใด', 'ใน', 'ใฝ่ฝัน', 'ใส', 'ใหญ่', 'ใหม่', 'ให้', 'ไกล', 'ไก่', 'ได้', 'ไทย', 'ไป', 'ไม่', 'ไม้', 'ไว้', 'ไหน', 'ไหม', 'ไหร่', 'ไหล', 'ไหว', 'ไอ', 'ๆ', '…', '….']\n"
          ],
          "name": "stdout"
        }
      ]
    },
    {
      "cell_type": "code",
      "metadata": {
        "colab": {
          "base_uri": "https://localhost:8080/"
        },
        "id": "dkt9oLUIX64U",
        "outputId": "7788c398-1d0d-43cc-ddff-dc967b3492ef"
      },
      "source": [
        "## Finding non-word\n",
        "\n",
        "print(\"''\")\n",
        "print([i for i in unique_words if i == ''])\n",
        "print(\"\\n'.'\")\n",
        "print([i for i in unique_words if '.' in i])\n",
        "print(\"\\n'…'\")\n",
        "print([i for i in unique_words if '…' in i])\n",
        "print(\"\\n'ๆ'\")\n",
        "print([i for i in unique_words if 'ๆ' in i])\n",
        "print(\"\\n' '\")\n",
        "print([i for i in unique_words if ' ' in i])"
      ],
      "execution_count": 13,
      "outputs": [
        {
          "output_type": "stream",
          "text": [
            "''\n",
            "['']\n",
            "\n",
            "'.'\n",
            "['.', '......', '….']\n",
            "\n",
            "'…'\n",
            "['….', '…']\n",
            "\n",
            "'ๆ'\n",
            "['ๆ']\n",
            "\n",
            "' '\n",
            "['มา หา', ' ', ' เออ เอิงเอย', ' แพะ', ' วณิพกพเนจร', ' เออ', 'สรร ปัญญา', 'ประ ชา']\n"
          ],
          "name": "stdout"
        }
      ]
    },
    {
      "cell_type": "code",
      "metadata": {
        "id": "ijfl3T5Hv9L2"
      },
      "source": [
        "## Remove non-word\n",
        "\n",
        "remove_space = {i.replace(' ', '') for i in unique_words}\n",
        "remove_char = {i for i in remove_space\n",
        "                if i == ''\n",
        "                or '.' in i\n",
        "                or '…' in i\n",
        "                or 'ๆ' in i}\n",
        "clean_words = remove_space - remove_char\n",
        "# clean_words"
      ],
      "execution_count": 14,
      "outputs": []
    },
    {
      "cell_type": "code",
      "metadata": {
        "colab": {
          "base_uri": "https://localhost:8080/"
        },
        "id": "8PSPROT3atFL",
        "outputId": "27599953-a05c-47eb-8513-d2508f61ee7e"
      },
      "source": [
        "len(clean_words)"
      ],
      "execution_count": 15,
      "outputs": [
        {
          "output_type": "execute_result",
          "data": {
            "text/plain": [
              "539"
            ]
          },
          "metadata": {
            "tags": []
          },
          "execution_count": 15
        }
      ]
    },
    {
      "cell_type": "code",
      "metadata": {
        "id": "1MtI4CbIF5LV"
      },
      "source": [
        "vocab_size = len(clean_words)\n",
        "\n",
        "word2int = {}\n",
        "int2word = {}\n",
        "\n",
        "for i, word in enumerate(clean_words):\n",
        "    word2int[word] = i\n",
        "    int2word[i] = word\n",
        "\n",
        "# word2int\n",
        "# int2word"
      ],
      "execution_count": 16,
      "outputs": []
    },
    {
      "cell_type": "markdown",
      "metadata": {
        "id": "Wfeq1sERKtV6"
      },
      "source": [
        "# Prepare Sentence"
      ]
    },
    {
      "cell_type": "code",
      "metadata": {
        "id": "2WNupX57GK28"
      },
      "source": [
        "sentences = []\n",
        "for st in corpus:\n",
        "    tokens = deepcut.tokenize(st.strip())\n",
        "    sentences.append(tokens)\n",
        "# sentences"
      ],
      "execution_count": 17,
      "outputs": []
    },
    {
      "cell_type": "code",
      "metadata": {
        "id": "TcOk0S5LA241"
      },
      "source": [
        "## Remove non-word\n",
        "remove_space_sentences = [[i.replace(' ', '') for i in st]\n",
        "                          for st in sentences]  # Remove space\n",
        "remove_empty_word = [[i for i in st if i != ''] for st in remove_space_sentences]\n",
        "clean_sentences = [[i for i in st\n",
        "                    if '.' not in i\n",
        "                    and '…' not in i\n",
        "                    and 'ๆ' not in i]\n",
        "                   for st in remove_empty_word if st]\n",
        "# clean_sentences"
      ],
      "execution_count": 18,
      "outputs": []
    },
    {
      "cell_type": "markdown",
      "metadata": {
        "id": "WOTo62ADISVw"
      },
      "source": [
        "# Use 2-Gram"
      ]
    },
    {
      "cell_type": "code",
      "metadata": {
        "id": "rPsj6E4qGUPr",
        "colab": {
          "base_uri": "https://localhost:8080/"
        },
        "outputId": "f0cfede1-ddcb-4a5c-d756-ab4348b4f82b"
      },
      "source": [
        "WINDOW_SIZE = 2\n",
        "\n",
        "data = []\n",
        "for sentence in clean_sentences:\n",
        "    for word_index, word in enumerate(sentence):\n",
        "        for nb_word in sentence[max(word_index - WINDOW_SIZE, 0) : min(word_index + WINDOW_SIZE, len(sentence))+1] : \n",
        "            if nb_word != word:\n",
        "                data.append([word, nb_word])      \n",
        "data[:10]"
      ],
      "execution_count": 19,
      "outputs": [
        {
          "output_type": "execute_result",
          "data": {
            "text/plain": [
              "[['ถึง', 'ยากจน'],\n",
              " ['ถึง', 'ไม่'],\n",
              " ['ยากจน', 'ถึง'],\n",
              " ['ยากจน', 'ไม่'],\n",
              " ['ยากจน', 'มอง'],\n",
              " ['ไม่', 'ถึง'],\n",
              " ['ไม่', 'ยากจน'],\n",
              " ['ไม่', 'มอง'],\n",
              " ['ไม่', 'คน'],\n",
              " ['มอง', 'ยากจน']]"
            ]
          },
          "metadata": {
            "tags": []
          },
          "execution_count": 19
        }
      ]
    },
    {
      "cell_type": "code",
      "metadata": {
        "colab": {
          "base_uri": "https://localhost:8080/"
        },
        "id": "zfKE_6IMag85",
        "outputId": "d453e101-b7f0-42b6-ca5b-820a229617a1"
      },
      "source": [
        "len(data)"
      ],
      "execution_count": 20,
      "outputs": [
        {
          "output_type": "execute_result",
          "data": {
            "text/plain": [
              "4560"
            ]
          },
          "metadata": {
            "tags": []
          },
          "execution_count": 20
        }
      ]
    },
    {
      "cell_type": "markdown",
      "metadata": {
        "id": "oev96LjJaTmF"
      },
      "source": [
        "# Create dataset"
      ]
    },
    {
      "cell_type": "code",
      "metadata": {
        "colab": {
          "base_uri": "https://localhost:8080/"
        },
        "id": "WHt1REbhGa5P",
        "outputId": "0eab54b0-47d7-4344-810b-da7cc8b5604a"
      },
      "source": [
        "def to_one_hot(data_point_index, vocab_size):\n",
        "    temp = np.zeros(vocab_size)\n",
        "    temp[data_point_index] = 1\n",
        "    return temp\n",
        "\n",
        "x_train = [] # input word\n",
        "y_train = [] # output word\n",
        "for data_word in data:\n",
        "    x_train.append(to_one_hot(word2int[ data_word[0] ], vocab_size))\n",
        "    y_train.append(to_one_hot(word2int[ data_word[1] ], vocab_size))\n",
        "\n",
        "x_train = np.asarray(x_train)\n",
        "y_train = np.asarray(y_train)\n",
        "\n",
        "x_train.shape, y_train.shape"
      ],
      "execution_count": 21,
      "outputs": [
        {
          "output_type": "execute_result",
          "data": {
            "text/plain": [
              "((4560, 539), (4560, 539))"
            ]
          },
          "metadata": {
            "tags": []
          },
          "execution_count": 21
        }
      ]
    },
    {
      "cell_type": "code",
      "metadata": {
        "id": "N1k5_D7iGsZg"
      },
      "source": [
        "# x_train\n",
        "# y_train"
      ],
      "execution_count": 22,
      "outputs": []
    },
    {
      "cell_type": "markdown",
      "metadata": {
        "id": "S_nlUJLGbSTQ"
      },
      "source": [
        "# Create Model"
      ]
    },
    {
      "cell_type": "code",
      "metadata": {
        "id": "boM6eYpLG0kG"
      },
      "source": [
        "filename = 'w2v.h5'\n",
        "checkpoint = callbacks.ModelCheckpoint(filename, monitor='loss', verbose=1, save_best_only=True, mode='min')"
      ],
      "execution_count": 23,
      "outputs": []
    },
    {
      "cell_type": "code",
      "metadata": {
        "id": "XQV8IsBeG9KM"
      },
      "source": [
        "model = keras.Sequential([\n",
        "    layers.Dense(100, activation='relu', input_shape=[vocab_size]),\n",
        "    layers.Dropout(0.25),\n",
        "    layers.Dense(vocab_size, activation = 'softmax')\n",
        "])"
      ],
      "execution_count": 24,
      "outputs": []
    },
    {
      "cell_type": "code",
      "metadata": {
        "colab": {
          "base_uri": "https://localhost:8080/"
        },
        "id": "w4AgdSNEHPpZ",
        "outputId": "cb1bd78a-c51f-446c-c95c-7267f55103c9"
      },
      "source": [
        "model.compile(\n",
        "    optimizer='adam',\n",
        "    loss='categorical_crossentropy')\n",
        "\n",
        "model.summary()"
      ],
      "execution_count": 25,
      "outputs": [
        {
          "output_type": "stream",
          "text": [
            "Model: \"sequential\"\n",
            "_________________________________________________________________\n",
            "Layer (type)                 Output Shape              Param #   \n",
            "=================================================================\n",
            "dense_14 (Dense)             (None, 100)               54000     \n",
            "_________________________________________________________________\n",
            "dropout (Dropout)            (None, 100)               0         \n",
            "_________________________________________________________________\n",
            "dense_15 (Dense)             (None, 539)               54439     \n",
            "=================================================================\n",
            "Total params: 108,439\n",
            "Trainable params: 108,439\n",
            "Non-trainable params: 0\n",
            "_________________________________________________________________\n"
          ],
          "name": "stdout"
        }
      ]
    },
    {
      "cell_type": "code",
      "metadata": {
        "id": "usoBaRuNWWOu"
      },
      "source": [
        "model.optimizer.learning_rate = 0.0003"
      ],
      "execution_count": 27,
      "outputs": []
    },
    {
      "cell_type": "code",
      "metadata": {
        "id": "MDxpZXkdHdj5"
      },
      "source": [
        "class PlotLosses(callbacks.Callback):\n",
        "    def on_train_begin(self, logs={}):\n",
        "        self.i = 0\n",
        "        self.x = []\n",
        "        self.losses = []\n",
        "        self.val_losses = []\n",
        "        \n",
        "        self.fig = plt.figure()\n",
        "        \n",
        "        self.logs = []\n",
        "\n",
        "    def on_epoch_end(self, epoch, logs=None):\n",
        "        if logs is None:\n",
        "            logs = {}\n",
        "        self.logs.append(logs)\n",
        "        self.x.append(self.i)\n",
        "        self.losses.append(logs.get('loss'))\n",
        "        self.i += 1\n",
        "        \n",
        "        clear_output(wait=True)\n",
        "        plt.plot(self.x, self.losses, label=\"loss\")\n",
        "        plt.legend()\n",
        "        plt.show();\n",
        "        \n",
        "plot_losses = PlotLosses()"
      ],
      "execution_count": 28,
      "outputs": []
    },
    {
      "cell_type": "code",
      "metadata": {
        "colab": {
          "base_uri": "https://localhost:8080/",
          "height": 265
        },
        "id": "VfXPM6oWHhrO",
        "outputId": "35dc5889-1cfc-4b86-97b0-eafa66520815"
      },
      "source": [
        "history = model.fit(\n",
        "    x_train,\n",
        "    y_train,\n",
        "    batch_size = 1,\n",
        "    epochs=1000,\n",
        "    verbose=1,\n",
        "    callbacks = [checkpoint, plot_losses])"
      ],
      "execution_count": 29,
      "outputs": [
        {
          "output_type": "display_data",
          "data": {
            "image/png": "[encoded data removed]",
            "text/plain": [
              "<Figure size 432x288 with 1 Axes>"
            ]
          },
          "metadata": {
            "tags": [],
            "needs_background": "light"
          }
        }
      ]
    },
    {
      "cell_type": "code",
      "metadata": {
        "id": "Z5A1_d0RtQcN"
      },
      "source": [
        "import pandas as pd"
      ],
      "execution_count": 30,
      "outputs": []
    },
    {
      "cell_type": "code",
      "metadata": {
        "colab": {
          "base_uri": "https://localhost:8080/"
        },
        "id": "EJjqasRFu1Sw",
        "outputId": "fb83e065-b0c5-4d65-cba1-589f7695ea9b"
      },
      "source": [
        "pd.Series(history.history['loss'])"
      ],
      "execution_count": 31,
      "outputs": [
        {
          "output_type": "execute_result",
          "data": {
            "text/plain": [
              "0      5.916597\n",
              "1      5.504388\n",
              "2      5.327101\n",
              "3      5.127540\n",
              "4      4.896288\n",
              "         ...   \n",
              "995    2.669380\n",
              "996    2.662617\n",
              "997    2.659957\n",
              "998    2.673445\n",
              "999    2.636189\n",
              "Length: 1000, dtype: float64"
            ]
          },
          "metadata": {
            "tags": []
          },
          "execution_count": 31
        }
      ]
    },
    {
      "cell_type": "code",
      "metadata": {
        "colab": {
          "base_uri": "https://localhost:8080/"
        },
        "id": "3eHgIG7UtAqr",
        "outputId": "1a34a504-4fe2-41d0-aa49-b433b54132f5"
      },
      "source": [
        "pd.Series(history.history['loss']).idxmin()"
      ],
      "execution_count": 32,
      "outputs": [
        {
          "output_type": "execute_result",
          "data": {
            "text/plain": [
              "261"
            ]
          },
          "metadata": {
            "tags": []
          },
          "execution_count": 32
        }
      ]
    },
    {
      "cell_type": "code",
      "metadata": {
        "colab": {
          "base_uri": "https://localhost:8080/"
        },
        "id": "o_OvpaJQvDS-",
        "outputId": "497fa1e7-4f81-41a7-b441-c8ca43e8c9f8"
      },
      "source": [
        "pd.Series(history.history['loss']).min()"
      ],
      "execution_count": 33,
      "outputs": [
        {
          "output_type": "execute_result",
          "data": {
            "text/plain": [
              "2.5576364994049072"
            ]
          },
          "metadata": {
            "tags": []
          },
          "execution_count": 33
        }
      ]
    },
    {
      "cell_type": "markdown",
      "metadata": {
        "id": "43t81eOb4a7O"
      },
      "source": [
        "# Load model from checkpoint"
      ]
    },
    {
      "cell_type": "code",
      "metadata": {
        "id": "XFo783IHKD_-"
      },
      "source": [
        "checkpoint_model = models.load_model(filename)"
      ],
      "execution_count": 34,
      "outputs": []
    },
    {
      "cell_type": "code",
      "metadata": {
        "colab": {
          "base_uri": "https://localhost:8080/"
        },
        "id": "jJjkbomsL_n1",
        "outputId": "31922d4a-26de-4369-f608-682f9cd723eb"
      },
      "source": [
        "wb1 = checkpoint_model.layers[0].get_weights()\n",
        "wb1[0].shape, wb1[1].shape"
      ],
      "execution_count": 35,
      "outputs": [
        {
          "output_type": "execute_result",
          "data": {
            "text/plain": [
              "((539, 100), (100,))"
            ]
          },
          "metadata": {
            "tags": []
          },
          "execution_count": 35
        }
      ]
    },
    {
      "cell_type": "code",
      "metadata": {
        "colab": {
          "base_uri": "https://localhost:8080/"
        },
        "id": "TwH1M6OaMFPr",
        "outputId": "449bff62-6b5b-477e-872a-dba0705da0c2"
      },
      "source": [
        "w1 = wb1[0]\n",
        "b1 = wb1[1]\n",
        "\n",
        "vectors = w1 + b1\n",
        "\n",
        "vectors.shape"
      ],
      "execution_count": 36,
      "outputs": [
        {
          "output_type": "execute_result",
          "data": {
            "text/plain": [
              "(539, 100)"
            ]
          },
          "metadata": {
            "tags": []
          },
          "execution_count": 36
        }
      ]
    },
    {
      "cell_type": "code",
      "metadata": {
        "id": "0PgLhMRxNMlE"
      },
      "source": [
        "with open('w2v_history_model', 'wb') as file:\n",
        "    p.dump(history.history, file)"
      ],
      "execution_count": 37,
      "outputs": []
    },
    {
      "cell_type": "code",
      "metadata": {
        "id": "bMoQ1FydNZGQ"
      },
      "source": [
        "## Use to load history of model training\n",
        "\n",
        "# with open('w2v_history_model', 'rb') as file:\n",
        "#      his = p.load(file)"
      ],
      "execution_count": 38,
      "outputs": []
    },
    {
      "cell_type": "markdown",
      "metadata": {
        "id": "A6O7kyOM4-Fh"
      },
      "source": [
        "# Testing calculate w/ euclidean distance"
      ]
    },
    {
      "cell_type": "code",
      "metadata": {
        "id": "qrGRToevOUpZ"
      },
      "source": [
        "def euclidean_dist(vec1, vec2):\n",
        "    return np.sqrt(np.sum((vec1-vec2)**2))\n",
        "\n",
        "def find_closest(word_index, vectors):\n",
        "    min_dist = 10000 \n",
        "    min_index = -1\n",
        "    query_vector = vectors[word_index]\n",
        "    for index, vector in enumerate(vectors):\n",
        "        if euclidean_dist(vector, query_vector) < min_dist and not np.array_equal(vector, query_vector):\n",
        "            min_dist = euclidean_dist(vector, query_vector)\n",
        "            min_index = index\n",
        "    return min_index"
      ],
      "execution_count": 39,
      "outputs": []
    },
    {
      "cell_type": "code",
      "metadata": {
        "colab": {
          "base_uri": "https://localhost:8080/"
        },
        "id": "YdtfX3jLOVvt",
        "outputId": "56248bab-36a0-455e-edb7-a558dedd0f08"
      },
      "source": [
        "print(int2word[find_closest(word2int['ฟ้า'], vectors)])\n",
        "print(int2word[find_closest(word2int['จน'], vectors)])\n",
        "print(int2word[find_closest(word2int['ยาก'], vectors)])"
      ],
      "execution_count": 40,
      "outputs": [
        {
          "output_type": "stream",
          "text": [
            "ฝนฉํ่า\n",
            "ไหร่\n",
            "ก่อน\n"
          ],
          "name": "stdout"
        }
      ]
    },
    {
      "cell_type": "markdown",
      "metadata": {
        "id": "IBrBLY8R9C4h"
      },
      "source": [
        "# Export file to plot in https://projector.tensorflow.org/"
      ]
    },
    {
      "cell_type": "code",
      "metadata": {
        "id": "GJGc9AM2OYHo"
      },
      "source": [
        "import csv\n",
        "\n",
        "with open('w2v.tsv', 'w') as out_file:\n",
        "    tsv_writer = csv.writer(out_file, delimiter='\\t')\n",
        "    for v in vectors:\n",
        "        tsv_writer.writerow(v)\n",
        "        \n",
        "with open('label.tsv', 'w') as out_file:\n",
        "    tsv_writer = csv.writer(out_file, delimiter='\\t')\n",
        "    for word in word2int:  \n",
        "        tsv_writer.writerow([word])"
      ],
      "execution_count": 42,
      "outputs": []
    }
  ]
}